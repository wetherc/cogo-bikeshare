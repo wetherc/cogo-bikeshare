{
 "cells": [
  {
   "cell_type": "code",
   "execution_count": null,
   "metadata": {},
   "outputs": [],
   "source": [
    "import json\n",
    "import statistics\n",
    "import folium\n",
    "import numpy as np\n",
    "import pandas as pd\n",
    "import os\n",
    "import warnings\n",
    "from pathlib import Path\n",
    "from IPython.display import Image, display\n",
    "\n",
    "from cogo import plotting, data_prep, simulation\n",
    "\n",
    "\n",
    "warnings.filterwarnings('ignore')"
   ]
  },
  {
   "cell_type": "code",
   "execution_count": null,
   "metadata": {},
   "outputs": [],
   "source": [
    "APP_ROOT = Path(os.path.realpath(os.path.expanduser(os.getcwd()))).parents[0]\n",
    "\n",
    "cogo_data, cogo_stations = data_prep.load_datasets(APP_ROOT)\n",
    "hourly_trips = data_prep.prepare_hourly_trips(cogo_data)\n",
    "station_crosslinks = data_prep.build_station_interlinks(cogo_data)"
   ]
  },
  {
   "cell_type": "code",
   "execution_count": null,
   "metadata": {},
   "outputs": [],
   "source": [
    "orchestrator = simulation.Orchestrator(\n",
    "    cogo_stations,\n",
    "    station_crosslinks,\n",
    "    hourly_trips,\n",
    "    bike_count=350\n",
    ")"
   ]
  },
  {
   "cell_type": "code",
   "execution_count": null,
   "metadata": {},
   "outputs": [],
   "source": [
    "orchestrator.run_simulation(12, 480)"
   ]
  },
  {
   "cell_type": "code",
   "execution_count": null,
   "metadata": {},
   "outputs": [],
   "source": [
    "# Really, this should be normalized to control for\n",
    "# number of days a station was in service, but for my\n",
    "# purposes, I'm just interested in the geographic\n",
    "# distribution of stations right now\n",
    "df_agg = plotting.counts_by_hexagon(df=cogo_data, resolution=9)"
   ]
  },
  {
   "cell_type": "code",
   "execution_count": null,
   "metadata": {},
   "outputs": [],
   "source": [
    "m_hex = plotting.choropleth_map(\n",
    "    df_agg=df_agg,\n",
    "    name='Departure Count',\n",
    "    value_col='departure_count',\n",
    "    with_legend=True)\n",
    "m_hex = plotting.choropleth_map(\n",
    "    df_agg=df_agg,\n",
    "    name='Arrival Count',\n",
    "    value_col='arrival_count',\n",
    "    initial_map=m_hex,\n",
    "    with_legend=True,\n",
    "    kind='outlier'\n",
    ")\n",
    "folium.map.LayerControl('bottomright', collapsed=False).add_to(m_hex)\n",
    "m_hex.save(str(APP_ROOT / 'output' / 'choropleth_counts.html'))\n",
    "m_hex"
   ]
  }
 ],
 "metadata": {
  "kernelspec": {
   "display_name": "Python 3",
   "language": "python",
   "name": "python3"
  },
  "language_info": {
   "codemirror_mode": {
    "name": "ipython",
    "version": 3
   },
   "file_extension": ".py",
   "mimetype": "text/x-python",
   "name": "python",
   "nbconvert_exporter": "python",
   "pygments_lexer": "ipython3",
   "version": "3.7.3"
  }
 },
 "nbformat": 4,
 "nbformat_minor": 4
}
