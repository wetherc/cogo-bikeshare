{
 "cells": [
  {
   "cell_type": "code",
   "execution_count": null,
   "metadata": {},
   "outputs": [],
   "source": [
    "import json\n",
    "import statistics\n",
    "import numpy as np\n",
    "import pandas as pd\n",
    "import os\n",
    "import warnings\n",
    "from pathlib import Path\n",
    "from IPython.display import Image, display\n",
    "\n",
    "from cogo import plotting, data_prep, simulation\n",
    "\n",
    "\n",
    "warnings.filterwarnings('ignore')"
   ]
  },
  {
   "cell_type": "code",
   "execution_count": null,
   "metadata": {},
   "outputs": [],
   "source": [
    "APP_ROOT = Path(os.path.realpath(os.path.expanduser(os.getcwd()))).parents[0]\n",
    "\n",
    "cogo_data, cogo_stations = data_prep.load_datasets(APP_ROOT)\n",
    "hourly_trips = data_prep.prepare_hourly_trips(cogo_data)\n",
    "station_crosslinks = data_prep.build_station_interlinks(cogo_data)"
   ]
  },
  {
   "cell_type": "code",
   "execution_count": null,
   "metadata": {},
   "outputs": [],
   "source": [
    "orchestrator = simulation.Orchestrator(\n",
    "    cogo_stations,\n",
    "    station_crosslinks,\n",
    "    hourly_trips,\n",
    "    bike_count=350\n",
    ")"
   ]
  },
  {
   "cell_type": "code",
   "execution_count": null,
   "metadata": {},
   "outputs": [],
   "source": [
    "orchestrator.run_simulation(12, 480)"
   ]
  },
  {
   "cell_type": "code",
   "execution_count": null,
   "metadata": {},
   "outputs": [],
   "source": [
    "# Order of operations is borked right now. Should aggregate to the appropriate\n",
    "# grain first and then join out to the hexagons. Otherwise things\n",
    "# are likely to get weird when we go to aggregate (e.g., daily\n",
    "# to lifetime grains)\n",
    "# df_agg = plotting.counts_by_hexagon(df=cogo_data, resolution=9)\n",
    "# df_agg.sort_values(by='value', ascending=False, inplace=True)"
   ]
  },
  {
   "cell_type": "code",
   "execution_count": null,
   "metadata": {},
   "outputs": [],
   "source": [
    "# m_hex = plotting.choropleth_map(df_agg=df_agg, with_legend=True)\n",
    "# m_hex.save(str(APP_ROOT / 'output' / 'choropleth_counts.html'))\n",
    "# m_hex"
   ]
  }
 ],
 "metadata": {
  "kernelspec": {
   "display_name": "Python 3",
   "language": "python",
   "name": "python3"
  },
  "language_info": {
   "codemirror_mode": {
    "name": "ipython",
    "version": 3
   },
   "file_extension": ".py",
   "mimetype": "text/x-python",
   "name": "python",
   "nbconvert_exporter": "python",
   "pygments_lexer": "ipython3",
   "version": "3.7.3"
  }
 },
 "nbformat": 4,
 "nbformat_minor": 4
}
